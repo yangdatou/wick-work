{
 "cells": [
  {
   "cell_type": "code",
   "execution_count": 80,
   "metadata": {},
   "outputs": [],
   "source": [
    "import os, sys\n",
    "sys.path.append(os.path.abspath(os.path.join('../', 'wick-main')))"
   ]
  },
  {
   "cell_type": "code",
   "execution_count": 81,
   "metadata": {},
   "outputs": [],
   "source": [
    "from fractions import Fraction\n",
    "\n",
    "from wick.expression import AExpression\n",
    "from wick.wick import apply_wick\n",
    "from wick.convenience import commute\n",
    "from wick.convenience import one_e, two_e, E0, E1, E2, braE1"
   ]
  },
  {
   "cell_type": "code",
   "execution_count": 82,
   "metadata": {},
   "outputs": [
    {
     "name": "stdout",
     "output_type": "stream",
     "text": [
      "\n",
      "EHF (After simplify): 3 -> 3\n",
      " + 1.0\\sum_{i}f_{ii}\n",
      " + 0.5\\sum_{ij}I_{ijij}\n",
      " - 0.5\\sum_{ij}I_{ijji}\n"
     ]
    }
   ],
   "source": [
    "def hf_energy_equation(H):\n",
    "    out = apply_wick(H)\n",
    "    out.resolve()\n",
    "\n",
    "    final = AExpression(Ex=out, simplify=False)\n",
    "\n",
    "    nterm = len(final.terms)\n",
    "    \n",
    "    final.simplify()\n",
    "    for term in final.terms:\n",
    "        for t in term.tensors:\n",
    "            # if a bracket is found remove all \n",
    "            # the characters in the bracket\n",
    "            if \"(\" in t.name:\n",
    "                t.name = t.name.split(\"(\")[0]\n",
    "\n",
    "    print(\"\\nEHF (After simplify): %d -> %d\" % (nterm, len(final.terms)))\n",
    "    print(final)\n",
    "\n",
    "H1 = one_e(\"f\", [\"occ\", \"vir\"], norder=False)\n",
    "H2 = two_e(\"I\", [\"occ\", \"vir\"], norder=False, anti=False)\n",
    "hf_energy_equation(H1 + H2)"
   ]
  },
  {
   "cell_type": "code",
   "execution_count": 83,
   "metadata": {},
   "outputs": [
    {
     "name": "stdout",
     "output_type": "stream",
     "text": [
      "\n",
      "R1 (After simplify): 129 -> 17\n",
      " + 1.0f_{ai}\n",
      " - 1.0\\sum_{j}f_{ji}t_{aj}\n",
      " + 1.0\\sum_{b}f_{ab}t_{bi}\n",
      " + 1.0\\sum_{jb}f_{jb}t_{abij}\n",
      " - 1.0\\sum_{jb}I_{jaib}t_{bj}\n",
      " + 1.0\\sum_{jb}I_{jabi}t_{bj}\n",
      " - 1.0\\sum_{jkb}I_{jkib}t_{abjk}\n",
      " - 1.0\\sum_{jbc}I_{jabc}t_{bcij}\n",
      " - 1.0\\sum_{jb}f_{jb}t_{aj}t_{bi}\n",
      " - 1.0\\sum_{jkb}I_{jkib}t_{aj}t_{bk}\n",
      " + 1.0\\sum_{jkb}I_{jkib}t_{ak}t_{bj}\n",
      " - 1.0\\sum_{jbc}I_{jabc}t_{bi}t_{cj}\n",
      " + 1.0\\sum_{jbc}I_{jabc}t_{bj}t_{ci}\n",
      " - 1.0\\sum_{jkbc}I_{jkbc}t_{aj}t_{bcik}\n",
      " - 1.0\\sum_{jkbc}I_{jkbc}t_{bi}t_{acjk}\n",
      " + 1.0\\sum_{jkbc}I_{jkbc}t_{bj}t_{acik}\n",
      " - 1.0\\sum_{jkbc}I_{jkbc}t_{bk}t_{acij}\n"
     ]
    }
   ],
   "source": [
    "def ccsd_t1_equation(H):\n",
    "    T1 = E1(\"t\", [\"occ\"], [\"vir\"])\n",
    "    T2 = E2(\"t\", [\"occ\"], [\"vir\"])\n",
    "    T = T1 + T2\n",
    "\n",
    "    HT = commute(H, T)\n",
    "    HTT = commute(HT, T)\n",
    "    bra = braE1(\"occ\", \"vir\")\n",
    "    S = bra * (H + HT + HTT  * Fraction(1, 2))\n",
    "\n",
    "    out = apply_wick(S)\n",
    "    out.resolve()\n",
    "\n",
    "    final = AExpression(Ex=out, simplify=False)\n",
    "\n",
    "    nterm = len(final.terms)\n",
    "    \n",
    "    final.simplify()\n",
    "    for term in final.terms:\n",
    "        for t in term.tensors:\n",
    "            # if a bracket is found remove all \n",
    "            # the characters in the bracket\n",
    "            if \"(\" in t.name:\n",
    "                t.name = t.name.split(\"(\")[0]\n",
    "\n",
    "    print(\"\\nR1 (After simplify): %d -> %d\" % (nterm, len(final.terms)))\n",
    "    print(final)\n",
    "\n",
    "H1 = one_e(\"f\", [\"occ\", \"vir\"], norder=True)\n",
    "H2 = two_e(\"I\", [\"occ\", \"vir\"], norder=True, anti=False)\n",
    "ccsd_t1_equation(H1 + H2)"
   ]
  },
  {
   "cell_type": "code",
   "execution_count": 84,
   "metadata": {},
   "outputs": [
    {
     "name": "stdout",
     "output_type": "stream",
     "text": [
      "\n",
      "EHF (After simplify): 3 -> 3\n",
      " + 1.0\\sum_{i}f_{ii}\n",
      " + 0.5\\sum_{ij}I_{ijij}\n",
      " - 0.5\\sum_{ij}I_{ijji}\n"
     ]
    }
   ],
   "source": [
    "import wick\n",
    "\n",
    "from wick.index import Idx\n",
    "from wick.operator import Sigma, TensorSym, FOperator, Tensor, normal_ordered\n",
    "from wick.expression import Term, Expression\n",
    "\n",
    "from itertools import product\n",
    "from fractions import Fraction\n",
    "\n",
    "def PhysNotaERIs(name, spaces, norder=False):\n",
    "    terms = []\n",
    "    sym = TensorSym([(0, 1, 2, 3), (1, 0, 3, 2)], [1, 1])\n",
    "\n",
    "    for ss in product(spaces, repeat=4):\n",
    "        # Count how many times each space appears\n",
    "        inds = [Idx(sum(s == si for s in ss[:i]), si) for i, si in enumerate(ss)]\n",
    "        p, q, r, s = inds\n",
    "        fops = [FOperator(p, 1), FOperator(q, 1), FOperator(s, 0), FOperator(r, 0)]\n",
    "\n",
    "        sign = 1\n",
    "        if norder:\n",
    "            fops, sign = normal_ordered(fops)\n",
    "\n",
    "        term = Term(\n",
    "            sign * Fraction(1, 2),         # The scalar factor\n",
    "            list(map(Sigma, inds)), # The summed indices\n",
    "            [Tensor(inds, name, sym=sym)], # The tensor\n",
    "            fops, [] # The operators and the bra.\n",
    "        )\n",
    "\n",
    "        terms.append(term)\n",
    "\n",
    "    return Expression(terms)\n",
    "\n",
    "H1 = one_e(\"f\", [\"occ\", \"vir\"], norder=False)\n",
    "H2 = PhysNotaERIs(\"I\", [\"occ\", \"vir\"], norder=False)\n",
    "hf_energy_equation(H1 + H2)"
   ]
  },
  {
   "cell_type": "code",
   "execution_count": 85,
   "metadata": {},
   "outputs": [
    {
     "name": "stdout",
     "output_type": "stream",
     "text": [
      "\n",
      "R1 (After simplify): 129 -> 17\n",
      " + 1.0f_{ai}\n",
      " - 1.0\\sum_{j}f_{ji}t_{aj}\n",
      " + 1.0\\sum_{b}f_{ab}t_{bi}\n",
      " + 1.0\\sum_{jb}f_{jb}t_{abij}\n",
      " - 1.0\\sum_{jb}I_{jaib}t_{bj}\n",
      " + 1.0\\sum_{jb}I_{jabi}t_{bj}\n",
      " - 1.0\\sum_{jkb}I_{jkib}t_{abjk}\n",
      " - 1.0\\sum_{jbc}I_{jabc}t_{bcij}\n",
      " - 1.0\\sum_{jb}f_{jb}t_{aj}t_{bi}\n",
      " - 1.0\\sum_{jkb}I_{jkib}t_{aj}t_{bk}\n",
      " + 1.0\\sum_{jkb}I_{jkib}t_{ak}t_{bj}\n",
      " - 1.0\\sum_{jbc}I_{jabc}t_{bi}t_{cj}\n",
      " + 1.0\\sum_{jbc}I_{jabc}t_{bj}t_{ci}\n",
      " - 1.0\\sum_{jkbc}I_{jkbc}t_{aj}t_{bcik}\n",
      " - 1.0\\sum_{jkbc}I_{jkbc}t_{bi}t_{acjk}\n",
      " + 1.0\\sum_{jkbc}I_{jkbc}t_{bj}t_{acik}\n",
      " - 1.0\\sum_{jkbc}I_{jkbc}t_{bk}t_{acij}\n"
     ]
    }
   ],
   "source": [
    "H1 = one_e(\"f\", [\"occ\", \"vir\"], norder=True)\n",
    "H2 = PhysNotaERIs(\"I\", [\"occ\", \"vir\"], norder=True)\n",
    "ccsd_t1_equation(H1 + H2)"
   ]
  },
  {
   "cell_type": "code",
   "execution_count": 86,
   "metadata": {},
   "outputs": [
    {
     "name": "stdout",
     "output_type": "stream",
     "text": [
      "\n",
      "EHF (After simplify): 3 -> 3\n",
      " + 1.0\\sum_{i}f_{ii}\n",
      " + 0.5\\sum_{ij}I_{iijj}\n",
      " - 0.5\\sum_{ij}I_{ijji}\n"
     ]
    }
   ],
   "source": [
    "def ChemNotaERIs(name, spaces, norder=False):\n",
    "    terms = []\n",
    "    sym = TensorSym([(0, 1, 2, 3), (0, 1, 3, 2), (1, 0, 2, 3), (1, 0, 3, 2)], [1, 1, 1, 1])\n",
    "\n",
    "    for ss in product(spaces, repeat=4):\n",
    "        # Count how many times each space appears\n",
    "        inds = [Idx(sum(s == si for s in ss[:i]), si) for i, si in enumerate(ss)]\n",
    "        p, q, r, s = inds\n",
    "        fops = [FOperator(p, 1), FOperator(r, 1), FOperator(s, 0), FOperator(q, 0)]\n",
    "\n",
    "        sign = 1\n",
    "        if norder:\n",
    "            fops, sign = normal_ordered(fops)\n",
    "\n",
    "        terms.append(\n",
    "            Term(\n",
    "                sign * Fraction(1, 2),  # The scalar factor\n",
    "                list(map(Sigma, inds)), # The summed indices\n",
    "                [Tensor(inds, name, sym=sym)], # The tensor\n",
    "                fops, [] # The operators and the bra.\n",
    "            )\n",
    "        )\n",
    "\n",
    "    return Expression(terms)\n",
    "\n",
    "H1 = one_e(\"f\", [\"occ\", \"vir\"], norder=False)\n",
    "H2 = ChemNotaERIs(\"I\", [\"occ\", \"vir\"], norder=False)\n",
    "hf_energy_equation(H1 + H2)"
   ]
  },
  {
   "cell_type": "code",
   "execution_count": 87,
   "metadata": {},
   "outputs": [
    {
     "name": "stdout",
     "output_type": "stream",
     "text": [
      "\n",
      "R1 (After simplify): 129 -> 29\n",
      " + 1.0f_{ai}\n",
      " - 1.0\\sum_{j}f_{ji}t_{aj}\n",
      " + 1.0\\sum_{b}f_{ab}t_{bi}\n",
      " + 1.0\\sum_{jb}f_{jb}t_{abij}\n",
      " - 0.5\\sum_{jb}I_{jiab}t_{bj}\n",
      " + 0.5\\sum_{jb}I_{jbai}t_{bj}\n",
      " + 0.5\\sum_{jb}I_{aijb}t_{bj}\n",
      " - 0.5\\sum_{bj}I_{abji}t_{bj}\n",
      " - 0.5\\sum_{jkb}I_{jikb}t_{abjk}\n",
      " + 0.5\\sum_{jbk}I_{jbki}t_{abjk}\n",
      " - 0.5\\sum_{jbc}I_{jbac}t_{bcij}\n",
      " + 0.5\\sum_{bjc}I_{abjc}t_{bcij}\n",
      " - 1.0\\sum_{jb}f_{jb}t_{aj}t_{bi}\n",
      " - 0.5\\sum_{jkb}I_{jikb}t_{aj}t_{bk}\n",
      " + 0.5\\sum_{jkb}I_{jikb}t_{ak}t_{bj}\n",
      " + 0.5\\sum_{jbk}I_{jbki}t_{aj}t_{bk}\n",
      " - 0.5\\sum_{jbk}I_{jbki}t_{ak}t_{bj}\n",
      " - 0.5\\sum_{jbc}I_{jbac}t_{bi}t_{cj}\n",
      " + 0.5\\sum_{jbc}I_{jbac}t_{bj}t_{ci}\n",
      " + 0.5\\sum_{bjc}I_{abjc}t_{bi}t_{cj}\n",
      " - 0.5\\sum_{bjc}I_{abjc}t_{bj}t_{ci}\n",
      " - 0.5\\sum_{jbkc}I_{jbkc}t_{aj}t_{bcik}\n",
      " + 0.5\\sum_{jbkc}I_{jbkc}t_{ak}t_{bcij}\n",
      " - 0.5\\sum_{jbkc}I_{jbkc}t_{bi}t_{acjk}\n",
      " + 0.5\\sum_{jbkc}I_{jbkc}t_{bj}t_{acik}\n",
      " - 0.5\\sum_{jbkc}I_{jbkc}t_{bk}t_{acij}\n",
      " + 0.5\\sum_{jbkc}I_{jbkc}t_{ci}t_{abjk}\n",
      " - 0.5\\sum_{jbkc}I_{jbkc}t_{cj}t_{abik}\n",
      " + 0.5\\sum_{jbkc}I_{jbkc}t_{ck}t_{abij}\n"
     ]
    }
   ],
   "source": [
    "H1 = one_e(\"f\", [\"occ\", \"vir\"], norder=True)\n",
    "H2 = ChemNotaERIs(\"I\", [\"occ\", \"vir\"], norder=True)\n",
    "ccsd_t1_equation(H1 + H2)"
   ]
  },
  {
   "cell_type": "code",
   "execution_count": 88,
   "metadata": {},
   "outputs": [
    {
     "name": "stdout",
     "output_type": "stream",
     "text": [
      "\n",
      "EHF (After simplify): 3 -> 3\n",
      " + 1.0\\sum_{i}f_{ii}\n",
      " + 0.5\\sum_{Pij}L_{Pii}L_{Pjj}\n",
      " - 0.5\\sum_{Pij}L_{Pij}L_{Pji}\n"
     ]
    }
   ],
   "source": [
    "from wick.operator import  Delta\n",
    "from wick.expression import ATerm\n",
    "\n",
    "from wick.index import Idx\n",
    "from wick.operator import Sigma, TensorSym, FOperator, Tensor, normal_ordered\n",
    "from wick.expression import Term, Expression\n",
    "\n",
    "from itertools import product\n",
    "from fractions import Fraction\n",
    "\n",
    "def DensityFittingERI(name, spaces, norder=False):\n",
    "    terms = []\n",
    "    sym = TensorSym([(0, 1, 2), (0, 2, 1)], [1, 1])\n",
    "\n",
    "    for ss in product(spaces, repeat=4):\n",
    "        # Count how many times each space appears\n",
    "        inds = [Idx(sum(s == si for s in ss[:i]), si) for i, si in enumerate(ss)]\n",
    "        p, q, r, s = inds\n",
    "        P = Idx(0, \"aux\")\n",
    "        fops = [FOperator(p, 1), FOperator(r, 1), FOperator(s, 0), FOperator(q, 0)]\n",
    "\n",
    "        sign = 1\n",
    "        if norder:\n",
    "            fops, sign = normal_ordered(fops)\n",
    "\n",
    "        t = Term(0.5 * sign,  # The scalar factor\n",
    "                [Sigma(P), Sigma(p), Sigma(q), Sigma(r), Sigma(s)],\n",
    "                [Tensor([P, p, q], name + \"(0)\", sym=sym), Tensor([P, r, s], name + \"(1)\", sym=sym)], # The tensor\n",
    "                fops, []\n",
    "            )\n",
    "        t.index_key = {\n",
    "            \"occ\": \"ijklmno\",\n",
    "            \"vir\": \"abcdefg\",\n",
    "            \"aux\": \"PQRSIJKL\"\n",
    "            }\n",
    "\n",
    "        terms.append(t)\n",
    "\n",
    "    return Expression(terms)\n",
    "\n",
    "H1 = one_e(\"f\", [\"occ\", \"vir\"], norder=False)\n",
    "H2 = DensityFittingERI(\"L\", [\"occ\", \"vir\"], norder=False)\n",
    "hf_energy_equation(H1 + H2)"
   ]
  },
  {
   "cell_type": "code",
   "execution_count": 89,
   "metadata": {},
   "outputs": [
    {
     "name": "stdout",
     "output_type": "stream",
     "text": [
      "\n",
      "R1 (After simplify): 129 -> 29\n",
      " + 1.0f_{ai}\n",
      " - 1.0\\sum_{j}f_{ji}t_{aj}\n",
      " + 1.0\\sum_{b}f_{ab}t_{bi}\n",
      " + 1.0\\sum_{jb}f_{jb}t_{abij}\n",
      " - 1.0\\sum_{jb}f_{jb}t_{aj}t_{bi}\n",
      " - 0.5\\sum_{Pjb}L_{Pji}L_{Pab}t_{bj}\n",
      " + 0.5\\sum_{Pjb}L_{Pjb}L_{Pai}t_{bj}\n",
      " + 0.5\\sum_{Pjb}L_{Pai}L_{Pjb}t_{bj}\n",
      " - 0.5\\sum_{Pbj}L_{Pab}L_{Pji}t_{bj}\n",
      " - 0.5\\sum_{Pjkb}L_{Pji}L_{Pkb}t_{abjk}\n",
      " + 0.5\\sum_{Pjbk}L_{Pjb}L_{Pki}t_{abjk}\n",
      " - 0.5\\sum_{Pjbc}L_{Pjb}L_{Pac}t_{bcij}\n",
      " + 0.5\\sum_{Pbjc}L_{Pab}L_{Pjc}t_{bcij}\n",
      " - 0.5\\sum_{Pjkb}L_{Pji}L_{Pkb}t_{aj}t_{bk}\n",
      " + 0.5\\sum_{Pjkb}L_{Pji}L_{Pkb}t_{ak}t_{bj}\n",
      " + 0.5\\sum_{Pjbk}L_{Pjb}L_{Pki}t_{aj}t_{bk}\n",
      " - 0.5\\sum_{Pjbk}L_{Pjb}L_{Pki}t_{ak}t_{bj}\n",
      " - 0.5\\sum_{Pjbc}L_{Pjb}L_{Pac}t_{bi}t_{cj}\n",
      " + 0.5\\sum_{Pjbc}L_{Pjb}L_{Pac}t_{bj}t_{ci}\n",
      " + 0.5\\sum_{Pbjc}L_{Pab}L_{Pjc}t_{bi}t_{cj}\n",
      " - 0.5\\sum_{Pbjc}L_{Pab}L_{Pjc}t_{bj}t_{ci}\n",
      " - 0.5\\sum_{Pjbkc}L_{Pjb}L_{Pkc}t_{aj}t_{bcik}\n",
      " + 0.5\\sum_{Pjbkc}L_{Pjb}L_{Pkc}t_{ak}t_{bcij}\n",
      " - 0.5\\sum_{Pjbkc}L_{Pjb}L_{Pkc}t_{bi}t_{acjk}\n",
      " + 0.5\\sum_{Pjbkc}L_{Pjb}L_{Pkc}t_{bj}t_{acik}\n",
      " - 0.5\\sum_{Pjbkc}L_{Pjb}L_{Pkc}t_{bk}t_{acij}\n",
      " + 0.5\\sum_{Pjbkc}L_{Pjb}L_{Pkc}t_{ci}t_{abjk}\n",
      " - 0.5\\sum_{Pjbkc}L_{Pjb}L_{Pkc}t_{cj}t_{abik}\n",
      " + 0.5\\sum_{Pjbkc}L_{Pjb}L_{Pkc}t_{ck}t_{abij}\n"
     ]
    }
   ],
   "source": [
    "H1 = one_e(\"f\", [\"occ\", \"vir\"], norder=True)\n",
    "H2 = DensityFittingERI(\"L\", [\"occ\", \"vir\"], norder=True)\n",
    "ccsd_t1_equation(H1 + H2)"
   ]
  },
  {
   "cell_type": "code",
   "execution_count": 90,
   "metadata": {},
   "outputs": [
    {
     "name": "stdout",
     "output_type": "stream",
     "text": [
      "\n",
      "EHF (After simplify): 3 -> 3\n",
      " + 1.0\\sum_{i}f_{ii}\n",
      " + 0.5\\sum_{PQij}X_{Pi}X_{Pi}X_{Qj}X_{Qj}Z_{PQ}\n",
      " - 0.5\\sum_{PQij}X_{Pi}X_{Pj}X_{Qj}X_{Qi}Z_{PQ}\n"
     ]
    }
   ],
   "source": [
    "def TensorHyperContractionERI(name, spaces, norder=False):\n",
    "    terms = []\n",
    "    sym = TensorSym([(0, 1), (1, 0)], [1, 1])\n",
    "    z = name[0]\n",
    "    x = name[1]\n",
    "\n",
    "    for ss in product(spaces, repeat=4):\n",
    "        # Count how many times each space appears\n",
    "        inds = [Idx(sum(s == si for s in ss[:i]), si) for i, si in enumerate(ss)]\n",
    "        p, q, r, s = inds\n",
    "        P = Idx(0, \"aux\")\n",
    "        Q = Idx(1, \"aux\")\n",
    "        fops = [FOperator(p, 1), FOperator(r, 1), FOperator(s, 0), FOperator(q, 0)]\n",
    "\n",
    "        sign = 1\n",
    "        if norder:\n",
    "            fops, sign = normal_ordered(fops)\n",
    "\n",
    "        t = Term(0.5,  # The scalar factor\n",
    "                [Sigma(P), Sigma(Q), Sigma(p), Sigma(q), Sigma(r), Sigma(s)],\n",
    "                [Tensor([P, p], x + \"(0)\"), Tensor([P, q], x + \"(1)\"),\n",
    "                 Tensor([Q, r], x + \"(2)\"), Tensor([Q, s], x + \"(3)\"),\n",
    "                 Tensor([P, Q], z, sym=sym)], # The tensor\n",
    "                fops, []\n",
    "            )\n",
    "        t.index_key = {\n",
    "            \"occ\": \"ijklmno\",\n",
    "            \"vir\": \"abcdefg\",\n",
    "            \"aux\": \"PQRSIJKL\"\n",
    "            }\n",
    "\n",
    "        terms.append(t)\n",
    "\n",
    "    return Expression(terms)\n",
    "\n",
    "H1 = one_e(\"f\", [\"occ\", \"vir\"], norder=False)\n",
    "H2 = TensorHyperContractionERI(\"ZX\", [\"occ\", \"vir\"], norder=False)\n",
    "hf_energy_equation(H1 + H2)"
   ]
  },
  {
   "cell_type": "code",
   "execution_count": 91,
   "metadata": {},
   "outputs": [
    {
     "name": "stdout",
     "output_type": "stream",
     "text": [
      "\n",
      "R1 (After simplify): 129 -> 29\n",
      " + 1.0f_{ai}\n",
      " - 1.0\\sum_{j}f_{ji}t_{aj}\n",
      " + 1.0\\sum_{b}f_{ab}t_{bi}\n",
      " + 1.0\\sum_{jb}f_{jb}t_{abij}\n",
      " - 1.0\\sum_{jb}f_{jb}t_{aj}t_{bi}\n",
      " + 0.5\\sum_{PQjb}X_{Pj}X_{Pi}X_{Qa}X_{Qb}Z_{PQ}t_{bj}\n",
      " + 0.5\\sum_{PQjb}X_{Pj}X_{Pb}X_{Qa}X_{Qi}Z_{PQ}t_{bj}\n",
      " + 0.5\\sum_{PQjb}X_{Pa}X_{Pi}X_{Qj}X_{Qb}Z_{PQ}t_{bj}\n",
      " + 0.5\\sum_{PQbj}X_{Pa}X_{Pb}X_{Qj}X_{Qi}Z_{PQ}t_{bj}\n",
      " + 0.5\\sum_{PQjkb}X_{Pj}X_{Pi}X_{Qk}X_{Qb}Z_{PQ}t_{abjk}\n",
      " + 0.5\\sum_{PQjbk}X_{Pj}X_{Pb}X_{Qk}X_{Qi}Z_{PQ}t_{abjk}\n",
      " + 0.5\\sum_{PQjbc}X_{Pj}X_{Pb}X_{Qa}X_{Qc}Z_{PQ}t_{bcij}\n",
      " + 0.5\\sum_{PQbjc}X_{Pa}X_{Pb}X_{Qj}X_{Qc}Z_{PQ}t_{bcij}\n",
      " + 0.5\\sum_{PQjkb}X_{Pj}X_{Pi}X_{Qk}X_{Qb}Z_{PQ}t_{aj}t_{bk}\n",
      " - 0.5\\sum_{PQjkb}X_{Pj}X_{Pi}X_{Qk}X_{Qb}Z_{PQ}t_{ak}t_{bj}\n",
      " + 0.5\\sum_{PQjbk}X_{Pj}X_{Pb}X_{Qk}X_{Qi}Z_{PQ}t_{aj}t_{bk}\n",
      " - 0.5\\sum_{PQjbk}X_{Pj}X_{Pb}X_{Qk}X_{Qi}Z_{PQ}t_{ak}t_{bj}\n",
      " + 0.5\\sum_{PQjbc}X_{Pj}X_{Pb}X_{Qa}X_{Qc}Z_{PQ}t_{bi}t_{cj}\n",
      " - 0.5\\sum_{PQjbc}X_{Pj}X_{Pb}X_{Qa}X_{Qc}Z_{PQ}t_{bj}t_{ci}\n",
      " + 0.5\\sum_{PQbjc}X_{Pa}X_{Pb}X_{Qj}X_{Qc}Z_{PQ}t_{bi}t_{cj}\n",
      " - 0.5\\sum_{PQbjc}X_{Pa}X_{Pb}X_{Qj}X_{Qc}Z_{PQ}t_{bj}t_{ci}\n",
      " - 0.5\\sum_{PQjbkc}X_{Pj}X_{Pb}X_{Qk}X_{Qc}Z_{PQ}t_{aj}t_{bcik}\n",
      " + 0.5\\sum_{PQjbkc}X_{Pj}X_{Pb}X_{Qk}X_{Qc}Z_{PQ}t_{ak}t_{bcij}\n",
      " - 0.5\\sum_{PQjbkc}X_{Pj}X_{Pb}X_{Qk}X_{Qc}Z_{PQ}t_{bi}t_{acjk}\n",
      " + 0.5\\sum_{PQjbkc}X_{Pj}X_{Pb}X_{Qk}X_{Qc}Z_{PQ}t_{bj}t_{acik}\n",
      " - 0.5\\sum_{PQjbkc}X_{Pj}X_{Pb}X_{Qk}X_{Qc}Z_{PQ}t_{bk}t_{acij}\n",
      " + 0.5\\sum_{PQjbkc}X_{Pj}X_{Pb}X_{Qk}X_{Qc}Z_{PQ}t_{ci}t_{abjk}\n",
      " - 0.5\\sum_{PQjbkc}X_{Pj}X_{Pb}X_{Qk}X_{Qc}Z_{PQ}t_{cj}t_{abik}\n",
      " + 0.5\\sum_{PQjbkc}X_{Pj}X_{Pb}X_{Qk}X_{Qc}Z_{PQ}t_{ck}t_{abij}\n"
     ]
    }
   ],
   "source": [
    "H1 = one_e(\"f\", [\"occ\", \"vir\"], norder=True)\n",
    "H2 = TensorHyperContractionERI(\"ZX\", [\"occ\", \"vir\"], norder=True)\n",
    "ccsd_t1_equation(H1 + H2)"
   ]
  },
  {
   "cell_type": "code",
   "execution_count": null,
   "metadata": {},
   "outputs": [],
   "source": []
  }
 ],
 "metadata": {
  "kernelspec": {
   "display_name": "py310-block2",
   "language": "python",
   "name": "python3"
  },
  "language_info": {
   "codemirror_mode": {
    "name": "ipython",
    "version": 3
   },
   "file_extension": ".py",
   "mimetype": "text/x-python",
   "name": "python",
   "nbconvert_exporter": "python",
   "pygments_lexer": "ipython3",
   "version": "3.10.13"
  }
 },
 "nbformat": 4,
 "nbformat_minor": 2
}
