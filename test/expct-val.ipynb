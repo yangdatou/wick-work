{
 "cells": [
  {
   "cell_type": "code",
   "execution_count": 2,
   "metadata": {},
   "outputs": [],
   "source": [
    "import os, sys\n",
    "sys.path.append(os.path.abspath(os.path.join('../', 'wick-main')))"
   ]
  },
  {
   "cell_type": "code",
   "execution_count": 3,
   "metadata": {},
   "outputs": [
    {
     "name": "stdout",
     "output_type": "stream",
     "text": [
      "P_{ov} = \n",
      " + 1.0L_{ia}\n",
      "P_{vv} = \n",
      " + 1.0\\sum_{i}L_{ib}t_{ai}\n",
      " - 0.5\\sum_{cij}L_{ijcb}t_{caji}\n",
      "P_{oo} = \n",
      " - 1.0\\sum_{a}L_{ia}t_{aj}\n",
      " + 0.5\\sum_{abk}L_{ikab}t_{bajk}\n",
      "P_{vo} = \n",
      " + 1.0t_{ai}\n",
      " - 1.0\\sum_{bj}L_{jb}t_{baij}\n",
      " - 1.0\\sum_{bj}L_{jb}t_{aj}t_{bi}\n",
      " + 0.5\\sum_{bjck}L_{jkbc}t_{ci}t_{bakj}\n",
      " + 0.5\\sum_{bjck}L_{jkbc}t_{aj}t_{cbik}\n"
     ]
    }
   ],
   "source": [
    "from fractions import Fraction\n",
    "from wick.index import Idx\n",
    "from wick.operator import FOperator, Tensor\n",
    "from wick.expression import Term, Expression, AExpression\n",
    "from wick.wick import apply_wick\n",
    "from wick.convenience import E1, E2, commute\n",
    "\n",
    "i = Idx(0, \"occ\")\n",
    "a = Idx(0, \"vir\")\n",
    "j = Idx(1, \"occ\")\n",
    "b = Idx(1, \"vir\")\n",
    "\n",
    "T1 = E1(\"t\", [\"occ\"], [\"vir\"])\n",
    "T2 = E2(\"t\", [\"occ\"], [\"vir\"])\n",
    "T = T1 + T2\n",
    "\n",
    "L1 = E1(\"L\", [\"vir\"], [\"occ\"])\n",
    "L2 = E2(\"L\", [\"vir\"], [\"occ\"])\n",
    "L = L1 + L2\n",
    "\n",
    "# ov block\n",
    "operators = [FOperator(a, True), FOperator(i, False)]\n",
    "pvo = Expression([Term(1, [], [Tensor([i, a], \"\")], operators, [])])\n",
    "\n",
    "PT = commute(pvo, T)\n",
    "PTT = commute(PT, T)\n",
    "mid = pvo + PT + Fraction('1/2')*PTT\n",
    "full = L*mid\n",
    "out = apply_wick(full)\n",
    "out.resolve()\n",
    "final = AExpression(Ex=out)\n",
    "print(\"P_{ov} = \")\n",
    "print(final)\n",
    "\n",
    "# vv block\n",
    "operators = [FOperator(a, True), FOperator(b, False)]\n",
    "pvv = Expression([Term(1, [], [Tensor([b, a], \"\")], operators, [])])\n",
    "\n",
    "PT = commute(pvv, T)\n",
    "PTT = commute(PT, T)\n",
    "mid = pvv + PT + Fraction('1/2')*PTT\n",
    "full = L*mid\n",
    "out = apply_wick(full)\n",
    "out.resolve()\n",
    "final = AExpression(Ex=out)\n",
    "final.sort_tensors()\n",
    "print(\"P_{vv} = \")\n",
    "print(final)\n",
    "\n",
    "# oo block\n",
    "operators = [FOperator(j, False), FOperator(i, True)]\n",
    "poo = Expression([Term(-1, [], [Tensor([j, i], \"\")], operators, [])])\n",
    "\n",
    "PT = commute(poo, T)\n",
    "PTT = commute(PT, T)\n",
    "mid = poo + PT + Fraction('1/2')*PTT\n",
    "full = L*mid\n",
    "out = apply_wick(full)\n",
    "out.resolve()\n",
    "final = AExpression(Ex=out)\n",
    "final.sort_tensors()\n",
    "print(\"P_{oo} = \")\n",
    "print(final)\n",
    "\n",
    "# vo block\n",
    "operators = [FOperator(i, True), FOperator(a, False)]\n",
    "pvo = Expression([Term(1, [], [Tensor([a, i], \"\")], operators, [])])\n",
    "\n",
    "PT = commute(pvo, T)\n",
    "PTT = commute(PT, T)\n",
    "mid = pvo + PT + Fraction('1/2')*PTT\n",
    "full = mid + L*mid\n",
    "out = apply_wick(full)\n",
    "out.resolve()\n",
    "final = AExpression(Ex=out)\n",
    "final.sort_tensors()\n",
    "print(\"P_{vo} = \")\n",
    "print(final)"
   ]
  },
  {
   "cell_type": "code",
   "execution_count": null,
   "metadata": {},
   "outputs": [],
   "source": []
  }
 ],
 "metadata": {
  "kernelspec": {
   "display_name": "py310-block2",
   "language": "python",
   "name": "python3"
  },
  "language_info": {
   "codemirror_mode": {
    "name": "ipython",
    "version": 3
   },
   "file_extension": ".py",
   "mimetype": "text/x-python",
   "name": "python",
   "nbconvert_exporter": "python",
   "pygments_lexer": "ipython3",
   "version": "3.10.12"
  }
 },
 "nbformat": 4,
 "nbformat_minor": 2
}
